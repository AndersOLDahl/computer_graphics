{
 "cells": [
  {
   "cell_type": "markdown",
   "metadata": {},
   "source": [
    "# Image Analysis in python\n"
   ]
  },
  {
   "cell_type": "markdown",
   "metadata": {},
   "source": [
    "## Setup"
   ]
  },
  {
   "cell_type": "code",
   "execution_count": null,
   "metadata": {
    "collapsed": false
   },
   "outputs": [],
   "source": [
    "# Bring in necessary libraries\n",
    "%matplotlib inline\n",
    "import matplotlib.pyplot as plt\n",
    "import matplotlib.image as mpimg\n",
    "import numpy as np\n",
    "from skimage import color\n",
    "import skimage.filters as filters\n",
    "import skimage.exposure as exposure\n",
    "import skimage.feature as feature\n",
    "from skimage.transform import hough_circle\n",
    "from skimage.feature import peak_local_max\n",
    "from skimage import morphology\n",
    "from skimage.draw import circle_perimeter\n",
    "from skimage import img_as_float, img_as_ubyte, img_as_uint\n",
    "from skimage import segmentation as seg\n",
    "from skimage.morphology import watershed\n",
    "from skimage.morphology import disk\n",
    "from scipy import ndimage as nd\n",
    "from scipy.ndimage import convolve\n",
    "import glob # for bulk file import\n",
    "\n",
    "# Set defaults\n",
    "plt.rcParams['image.cmap'] = 'gray' # Display grayscale images in... grayscale.\n",
    "plt.rcParams['image.interpolation'] = 'none' # Use nearest-neighbour\n",
    "plt.rcParams['figure.figsize'] = 10, 10\n",
    "\n",
    "# Import test images\n",
    "imgpaths = glob.glob(\"./images/*.jpg\") + glob.glob(\"./images/*.png\")\n",
    "imgset = [img_as_ubyte(mpimg.imread(x)) for x in imgpaths]\n",
    "\n",
    "# Display thumbnails of the images to ensure loading\n",
    "plt.figure()\n",
    "for i,img in enumerate(imgset):\n",
    "    plt.subplot(1, len(imgset), i+1)\n",
    "    plt.imshow(img, cmap = 'gray')"
   ]
  },
  {
   "cell_type": "markdown",
   "metadata": {},
   "source": [
    "## Color and Exposure"
   ]
  },
  {
   "cell_type": "markdown",
   "metadata": {},
   "source": [
    "### Histograms and color channels"
   ]
  },
  {
   "cell_type": "code",
   "execution_count": null,
   "metadata": {
    "collapsed": false
   },
   "outputs": [],
   "source": [
    "# Plots a histogram of the image, splitting into individual channels if necessary.\n",
    "def plot_multichannel_histo(img):\n",
    "    if img.ndim == 2: # plot grayscale histo\n",
    "        plt.hist(img.flatten(), 256,  range=(0,255), color='k', histtype='step')\n",
    "    elif img.ndim == 3: # print rgb histo\n",
    "        plt.hist(img.reshape(-1,3), 256,  range=(0,255), color=['r','g','b'],histtype='step')\n",
    "    else: # Not an image\n",
    "        print(\"Must pass a valid RGB or grayscale image\")\n",
    "    plt.xlim([0,255])"
   ]
  },
  {
   "cell_type": "code",
   "execution_count": null,
   "metadata": {
    "collapsed": false
   },
   "outputs": [],
   "source": [
    "# Apply to image set\n",
    "for i,img in enumerate(imgset):\n",
    "    plt.figure()\n",
    "    plt.subplot(1, 2, 1)\n",
    "    plt.imshow(img, cmap='gray')\n",
    "    plt.subplot(1, 2, 2)\n",
    "    plot_multichannel_histo(img)"
   ]
  },
  {
   "cell_type": "code",
   "execution_count": null,
   "metadata": {
    "collapsed": false
   },
   "outputs": [],
   "source": [
    "# Alternate histogram syntax\n",
    "for col, channel in zip('rgb',np.rollaxis(imgset[0],axis=-1)):\n",
    "    plt.hist(channel.flatten(), bins=50, color=col,alpha=0.3)"
   ]
  },
  {
   "cell_type": "markdown",
   "metadata": {},
   "source": [
    "### Thresholding Images "
   ]
  },
  {
   "cell_type": "code",
   "execution_count": null,
   "metadata": {
    "collapsed": false
   },
   "outputs": [],
   "source": [
    "# Plot a per-channel thresholded image and its corresponding histogram\n",
    "def plot_threshold_with_histo(img, thresh):\n",
    "    plt.subplot(1, 2, 1)\n",
    "    plt.imshow(img > thresh)\n",
    "    plt.subplot(1, 2, 2)\n",
    "    plot_multichannel_histo(img)\n",
    "    plt.axvline(thresh, color='red');"
   ]
  },
  {
   "cell_type": "code",
   "execution_count": null,
   "metadata": {
    "collapsed": false
   },
   "outputs": [],
   "source": [
    "# Apply to image set\n",
    "for i,img in enumerate(imgset):\n",
    "    plt.figure()\n",
    "    plot_threshold_with_histo(img, 128)"
   ]
  },
  {
   "cell_type": "markdown",
   "metadata": {},
   "source": [
    "### Sepia and color filters"
   ]
  },
  {
   "cell_type": "code",
   "execution_count": null,
   "metadata": {
    "collapsed": false
   },
   "outputs": [],
   "source": [
    "# Sepia and color filters\n",
    "def sepia_filter(img):\n",
    "  #create a kernel which will be used to the original image.\n",
    "  sepia_filter = np.array([[.393, .769, .189],\n",
    "                           [.349, .686, .168],\n",
    "                           [.272, .534, .131]])\n",
    "  #Dot product the image and array\n",
    "  #T is the transpose of the array.\n",
    "  sepia_img = img.dot(sepia_filter.T)\n",
    "\n",
    "  #Since our filter lines do not have unit sum, so we need to rescale\n",
    "  sepia_img /= sepia_img.max()\n",
    "  return sepia_img\n",
    "\n",
    "for i,img in enumerate(imgset):\n",
    "    sepia = sepia_filter(img)\n",
    "    plt.imshow(img)\n",
    "    plt.show()\n",
    "    plt.imshow(sepia)\n",
    "    plt.show()    \n"
   ]
  },
  {
   "cell_type": "markdown",
   "metadata": {},
   "source": [
    "### Enhance Contrast"
   ]
  },
  {
   "cell_type": "code",
   "execution_count": null,
   "metadata": {
    "collapsed": false
   },
   "outputs": [],
   "source": [
    "# Enhance Contrast\n",
    "def boost_contrast(img):\n",
    "    if img.ndim == 3:\n",
    "        img = color.rgb2grey(img) \n",
    "    ent = filters.rank.enhance_contrast(img_as_ubyte(img), disk(5))\n",
    "    return ent\n",
    "\n",
    "for i,img in enumerate(imgset):\n",
    "    new = boost_contrast(img)\n",
    "    plt.imshow(img)\n",
    "    plt.show()\n",
    "    plt.imshow(new)\n",
    "    plt.show()  "
   ]
  },
  {
   "cell_type": "markdown",
   "metadata": {},
   "source": [
    "### Add entropy"
   ]
  },
  {
   "cell_type": "code",
   "execution_count": null,
   "metadata": {
    "collapsed": false
   },
   "outputs": [],
   "source": [
    "# Add entropy\n",
    "def add_entropy(img):\n",
    "    if img.ndim == 3:\n",
    "        img = color.rgb2grey(img) \n",
    "    ent = filters.rank.entropy(img_as_ubyte(img), disk(5))\n",
    "    return ent\n",
    "\n",
    "for i,img in enumerate(imgset):\n",
    "    new = add_entropy(img)\n",
    "    plt.imshow(img)\n",
    "    plt.show()\n",
    "    plt.imshow(new)\n",
    "    plt.show()  "
   ]
  },
  {
   "cell_type": "markdown",
   "metadata": {},
   "source": [
    "### H, S and V color space"
   ]
  },
  {
   "cell_type": "code",
   "execution_count": null,
   "metadata": {
    "collapsed": false
   },
   "outputs": [],
   "source": [
    "# Show HSV as three plots\n",
    "def plot_hsv_components(img):\n",
    "    if img.ndim == 2: # convert grayscale to rgb\n",
    "        hsv = color.rgb2hsv(color.gray2rgb(img))\n",
    "    elif img.ndim == 3:\n",
    "        hsv = color.rgb2hsv(img)\n",
    "    else: # Not an image\n",
    "        print(\"Must pass a valid RGB or grayscale image\")\n",
    "    plt.subplot(1, 3, 1)\n",
    "    plt.title('Hue')\n",
    "    plt.imshow(hsv[:,:,0], cmap='hsv') # Hue\n",
    "    plt.subplot(1, 3, 2)\n",
    "    plt.title('Saturation')\n",
    "    plt.imshow(hsv[:,:,1], cmap='Greens') # Sat\n",
    "    plt.subplot(1, 3, 3)\n",
    "    plt.title('Value')\n",
    "    plt.imshow(hsv[:,:,2], cmap='gray') # Value"
   ]
  },
  {
   "cell_type": "code",
   "execution_count": null,
   "metadata": {
    "collapsed": false
   },
   "outputs": [],
   "source": [
    "# Apply to image set\n",
    "for i,img in enumerate(imgset):\n",
    "    plt.figure()\n",
    "    plot_hsv_components(img)"
   ]
  },
  {
   "cell_type": "markdown",
   "metadata": {},
   "source": [
    "### CIELAB color space. L, a, b channels"
   ]
  },
  {
   "cell_type": "code",
   "execution_count": null,
   "metadata": {
    "collapsed": false
   },
   "outputs": [],
   "source": [
    "# Show Lab as three plots\n",
    "def plot_Lab_components(img):\n",
    "    if img.ndim == 2: # convert grayscale to Lab\n",
    "        lab = color.rgb2lab(color.gray2rgb(img))\n",
    "    elif img.ndim == 3:\n",
    "        lab = color.rgb2lab(img)\n",
    "    else: # Not an image\n",
    "        print(\"Must pass a valid RGB or grayscale image\")\n",
    "    plt.subplot(1, 3, 1)\n",
    "    plt.title('L')\n",
    "    plt.imshow(lab[:,:,0]) # L\n",
    "    plt.subplot(1, 3, 2)\n",
    "    plt.title('a')\n",
    "    plt.imshow(lab[:,:,1]) # a\n",
    "    plt.subplot(1, 3, 3)\n",
    "    plt.title('b')\n",
    "    plt.imshow(lab[:,:,2]) # b"
   ]
  },
  {
   "cell_type": "code",
   "execution_count": null,
   "metadata": {
    "collapsed": false
   },
   "outputs": [],
   "source": [
    "# Apply to image set\n",
    "for i,img in enumerate(imgset):\n",
    "    plt.figure()\n",
    "    plot_Lab_components(img)"
   ]
  },
  {
   "cell_type": "markdown",
   "metadata": {},
   "source": [
    "# Image Filters - Convolution of kernels"
   ]
  },
  {
   "cell_type": "code",
   "execution_count": null,
   "metadata": {
    "collapsed": false
   },
   "outputs": [],
   "source": [
    "# Create some arbitrary kernel\n",
    "def generate_kernel(size):\n",
    "    kernel = np.zeros((size,size))\n",
    "    for x in range(size):\n",
    "        if x%2==0:\n",
    "          kernel[x][x] = 1.0    \n",
    "    kernel = kernel / float(sum(sum(kernel)))\n",
    "    return kernel\n",
    "\n",
    "kernel = generate_kernel(33)\n",
    "plt.imshow(kernel)"
   ]
  },
  {
   "cell_type": "code",
   "execution_count": null,
   "metadata": {
    "collapsed": false
   },
   "outputs": [],
   "source": [
    "# Apply to image set\n",
    "for i,img in enumerate(imgset):\n",
    "    imgbw = color.rgb2grey(img)\n",
    "    plt.figure()\n",
    "    plt.subplot(1, 2, 1)\n",
    "    plt.imshow(imgbw)\n",
    "    plt.subplot(1, 2, 2)\n",
    "    plt.imshow(convolve(imgbw, kernel))"
   ]
  },
  {
   "cell_type": "markdown",
   "metadata": {},
   "source": [
    "## Downsampling"
   ]
  },
  {
   "cell_type": "code",
   "execution_count": null,
   "metadata": {
    "collapsed": false
   },
   "outputs": [],
   "source": [
    "# Downsample an image by skipping indicies\n",
    "def decimate_image(img, skip):\n",
    "     return img[::skip,::skip]"
   ]
  },
  {
   "cell_type": "code",
   "execution_count": null,
   "metadata": {
    "collapsed": false
   },
   "outputs": [],
   "source": [
    "# Apply to image set\n",
    "for i,img in enumerate(imgset):\n",
    "    plt.figure()\n",
    "    plt.subplot(1, 2, 1)\n",
    "    plt.imshow(img)\n",
    "    plt.subplot(1, 2, 2)\n",
    "    plt.imshow(decimate_image(img, 40))"
   ]
  },
  {
   "cell_type": "markdown",
   "metadata": {},
   "source": [
    "## Gaussian filters"
   ]
  },
  {
   "cell_type": "code",
   "execution_count": null,
   "metadata": {
    "collapsed": false,
    "scrolled": true
   },
   "outputs": [],
   "source": [
    "# Apply to image set\n",
    "sigma = 5.0\n",
    "for i,img in enumerate(imgset):\n",
    "    plt.figure()\n",
    "    plt.subplot(1, 2, 1)\n",
    "    plt.imshow(img)\n",
    "    plt.subplot(1, 2, 2)\n",
    "    plt.imshow(filters.gaussian_filter(img, sigma,mode='reflect', multichannel=False))"
   ]
  },
  {
   "cell_type": "code",
   "execution_count": null,
   "metadata": {
    "collapsed": false
   },
   "outputs": [],
   "source": [
    "# Apply to image set\n",
    "sigma = 15.0\n",
    "for i,img in enumerate(imgset):\n",
    "    plt.figure()\n",
    "    plt.subplot(1, 2, 1)\n",
    "    plt.imshow(img)\n",
    "    plt.subplot(1, 2, 2)\n",
    "    plt.imshow(filters.gaussian_filter(img, sigma,mode='reflect', multichannel=False))"
   ]
  },
  {
   "cell_type": "markdown",
   "metadata": {},
   "source": [
    "## Spatial difference filters"
   ]
  },
  {
   "cell_type": "code",
   "execution_count": null,
   "metadata": {
    "collapsed": false
   },
   "outputs": [],
   "source": [
    "# Find horizontal edges using a simple shifting method\n",
    "def find_horizontal_edges(img):\n",
    "    imgbw = img_as_float(color.rgb2grey(img))\n",
    "    return np.abs(imgbw[:, 1:] - imgbw[:, :-1])\n",
    "\n",
    "# Find vertical edges using a simple shifting method\n",
    "def find_vertical_edges(img):\n",
    "    imgbw = img_as_float(color.rgb2grey(img))\n",
    "    return np.abs(imgbw[1:, :] - imgbw[:-1, :])"
   ]
  },
  {
   "cell_type": "code",
   "execution_count": null,
   "metadata": {
    "collapsed": false
   },
   "outputs": [],
   "source": [
    "# Apply to image set\n",
    "for i,img in enumerate(imgset):\n",
    "    decimg = decimate_image(img, 5) # downsample to make it easier to see graphs\n",
    "    plt.figure()\n",
    "    plt.subplot(1, 3, 1)\n",
    "    plt.title('Original')\n",
    "    plt.imshow(decimg)\n",
    "    plt.subplot(1, 3, 2)\n",
    "    plt.title('Horizontal Edges')\n",
    "    plt.imshow(find_horizontal_edges(decimg))\n",
    "    plt.subplot(1, 3, 3)\n",
    "    plt.title('Vertical Edges')\n",
    "    plt.imshow(find_vertical_edges(decimg))"
   ]
  },
  {
   "cell_type": "markdown",
   "metadata": {},
   "source": [
    "## Difference filter pair-wise differences"
   ]
  },
  {
   "cell_type": "code",
   "execution_count": null,
   "metadata": {
    "collapsed": false
   },
   "outputs": [],
   "source": [
    "# Find the absolute difference between two images. Crops to the shared region between images.\n",
    "def find_pairwise_difference(img_a, img_b):\n",
    "    subset = np.minimum(img_a.shape, img_b.shape)\n",
    "    img_a_subset = img_a[:subset[0], :subset[1]]\n",
    "    img_b_subset = img_b[:subset[0], :subset[1]]\n",
    "    return img_a_subset, img_b_subset, np.abs(img_a_subset - img_b_subset)"
   ]
  },
  {
   "cell_type": "code",
   "execution_count": null,
   "metadata": {
    "collapsed": false
   },
   "outputs": [],
   "source": [
    "# Apply to image set\n",
    "for i in range(len(imgset)):\n",
    "    decimg_a = img_as_float(color.rgb2grey(decimate_image(imgset[i], 5))) # downsample to make it easier to see graphs\n",
    "    decimg_b = img_as_float(color.rgb2grey(decimate_image(imgset[(i+1) % len(imgset)], 5)))\n",
    "    a, b, d = find_pairwise_difference(decimg_a, decimg_b)\n",
    "    plt.figure()\n",
    "    plt.subplot(1, 3, 1)\n",
    "    plt.imshow(a)\n",
    "    plt.subplot(1, 3, 2)\n",
    "    plt.imshow(b)\n",
    "    plt.subplot(1, 3, 3)\n",
    "    plt.imshow(d)"
   ]
  },
  {
   "cell_type": "code",
   "execution_count": null,
   "metadata": {
    "collapsed": true
   },
   "outputs": [],
   "source": [
    "# Find the squared difference between two images. Crops to the shared region between images.\n",
    "def find_pairwise_difference_squared(img_a, img_b):\n",
    "    subset = np.minimum(img_a.shape, img_b.shape)\n",
    "    img_a_subset = img_a[:subset[0], :subset[1]]\n",
    "    img_b_subset = img_b[:subset[0], :subset[1]]\n",
    "    return img_a_subset, img_b_subset, np.square(img_a_subset - img_b_subset)"
   ]
  },
  {
   "cell_type": "code",
   "execution_count": null,
   "metadata": {
    "collapsed": false
   },
   "outputs": [],
   "source": [
    "# Apply to image set\n",
    "for i in range(len(imgset)):\n",
    "    decimg_a = img_as_float(color.rgb2grey(decimate_image(imgset[i], 5))) # downsample to make it easier to see graphs\n",
    "    decimg_b = img_as_float(color.rgb2grey(decimate_image(imgset[(i+1) % len(imgset)], 5)))\n",
    "    a, b, d = find_pairwise_difference_squared(decimg_a, decimg_b)\n",
    "    plt.figure()\n",
    "    plt.subplot(1, 3, 1)\n",
    "    plt.imshow(a)\n",
    "    plt.subplot(1, 3, 2)\n",
    "    plt.imshow(b)\n",
    "    plt.subplot(1, 3, 3)\n",
    "    plt.imshow(d)"
   ]
  },
  {
   "cell_type": "markdown",
   "metadata": {},
   "source": [
    "## Feature Detection"
   ]
  },
  {
   "cell_type": "markdown",
   "metadata": {},
   "source": [
    "### Sobel filter"
   ]
  },
  {
   "cell_type": "code",
   "execution_count": null,
   "metadata": {
    "collapsed": false
   },
   "outputs": [],
   "source": [
    " # Apply a Sobel filter to the image.\n",
    "def apply_sobel(img):\n",
    "    sobel_kernel = np.array([[-1, 0, +1],[-2, 0, +2],[-1, 0, +1]])\n",
    "    Gx = convolve(img, sobel_kernel)\n",
    "    Gy = convolve(img, -sobel_kernel.transpose())\n",
    "    return np.sqrt(np.square(Gx) + np.square(Gy))\n",
    "\n",
    "# This should do the same thing as skimage.filters.sobel(img)"
   ]
  },
  {
   "cell_type": "code",
   "execution_count": null,
   "metadata": {
    "collapsed": false
   },
   "outputs": [],
   "source": [
    "# Apply to image set\n",
    "for i,img in enumerate(imgset):\n",
    "    imgbw = img_as_float(color.rgb2grey(decimate_image(img, 5))) # downsample to make it easier to see graphs\n",
    "    plt.figure()\n",
    "    plt.subplot(1, 2, 1)\n",
    "    plt.imshow(imgbw)\n",
    "    plt.subplot(1, 2, 2)\n",
    "    plt.imshow(apply_sobel(imgbw))"
   ]
  },
  {
   "cell_type": "markdown",
   "metadata": {},
   "source": [
    "### Canny edge detector "
   ]
  },
  {
   "cell_type": "code",
   "execution_count": null,
   "metadata": {
    "collapsed": false
   },
   "outputs": [],
   "source": [
    "# Apply to image set\n",
    "sigma = 2.0\n",
    "for i,img in enumerate(imgset):\n",
    "    imgbw = img_as_float(color.rgb2grey(decimate_image(img, 5))) # downsample to make it easier to see graphs\n",
    "    plt.figure()\n",
    "    plt.subplot(1, 2, 1)\n",
    "    plt.imshow(imgbw)\n",
    "    plt.subplot(1, 2, 2)\n",
    "    plt.imshow(feature.canny(imgbw, sigma))"
   ]
  },
  {
   "cell_type": "markdown",
   "metadata": {},
   "source": [
    "### Hough transforms"
   ]
  },
  {
   "cell_type": "code",
   "execution_count": null,
   "metadata": {
    "collapsed": false
   },
   "outputs": [],
   "source": [
    "# Plot the circular Hough transforms of an image at the given radii.\n",
    "def plot_circle_hough(img, radii, sigma):\n",
    "    edges = feature.canny(img, sigma)\n",
    "    hough = hough_circle(edges, radii)\n",
    "    plt.figure()\n",
    "    plt.subplot(1, 2, 1)\n",
    "    plt.imshow(imgbw)\n",
    "    plt.subplot(1, 2, 2)\n",
    "    plt.imshow(edges)\n",
    "    plt.figure()\n",
    "    for j in range(len(hough)):\n",
    "        if len(hough)==0: continue\n",
    "        plt.subplot(1, len(hough), j)\n",
    "        plt.imshow(hough[j,:,:])    "
   ]
  },
  {
   "cell_type": "code",
   "execution_count": null,
   "metadata": {
    "collapsed": false
   },
   "outputs": [],
   "source": [
    "# Apply to image set\n",
    "radii = np.arange(10, 35, 5)\n",
    "sigma = 2.0\n",
    "for i,img in enumerate(imgset):\n",
    "    imgbw = img_as_float(color.rgb2grey(decimate_image(img, 5))) # downsample to make it easier to see graphs\n",
    "    plot_circle_hough(imgbw, radii, sigma)"
   ]
  },
  {
   "cell_type": "markdown",
   "metadata": {},
   "source": [
    "## Morphological Operations"
   ]
  },
  {
   "cell_type": "markdown",
   "metadata": {},
   "source": [
    "### Morphological operations - de-noising"
   ]
  },
  {
   "cell_type": "code",
   "execution_count": null,
   "metadata": {
    "collapsed": false
   },
   "outputs": [],
   "source": [
    "# Applies a morphological operator to remove noise\n",
    "def morpho_denoise(img, shape, size):\n",
    "    if shape == 'square':\n",
    "        kernel = morphology.square(width=size)\n",
    "    elif shape == 'diamond':\n",
    "        kernel = morphology.diamond(radius=size)\n",
    "    else:\n",
    "        print(\"Shape must be 'square' or 'diamond'.\")\n",
    "        return None\n",
    "    return morphology.opening(img, kernel)"
   ]
  },
  {
   "cell_type": "code",
   "execution_count": null,
   "metadata": {
    "collapsed": false
   },
   "outputs": [],
   "source": [
    "# Apply to image set\n",
    "for i,img in enumerate(imgset):\n",
    "    imgbw = img_as_float(color.rgb2grey(img))\n",
    "    plt.figure()\n",
    "    plt.subplot(1, 2, 1)\n",
    "    plt.imshow(imgbw)\n",
    "    plt.subplot(1, 2, 2)\n",
    "    plt.imshow(morpho_denoise(imgbw, 'square', 10))"
   ]
  },
  {
   "cell_type": "markdown",
   "metadata": {},
   "source": [
    "## Segmentation"
   ]
  },
  {
   "cell_type": "markdown",
   "metadata": {},
   "source": [
    "### SLIC (Simple Linear Iterative Clustering)"
   ]
  },
  {
   "cell_type": "code",
   "execution_count": null,
   "metadata": {
    "collapsed": false
   },
   "outputs": [],
   "source": [
    "# Calculate the mean color of slic regions, from the SciKit tutorial\n",
    "def mean_color(image, labels):\n",
    "    out = np.zeros_like(image)\n",
    "    for label in np.unique(labels):\n",
    "        indices = np.nonzero(labels == label)\n",
    "        out[indices] = np.mean(image[indices], axis=0)\n",
    "    return out\n",
    "\n",
    "def plot_slic_segmentation(img):\n",
    "    labels = seg.slic(img, n_segments=24, compactness=70, sigma=2.0, enforce_connectivity=True)\n",
    "    return mean_color(img, labels)"
   ]
  },
  {
   "cell_type": "code",
   "execution_count": null,
   "metadata": {
    "collapsed": false
   },
   "outputs": [],
   "source": [
    "# Apply to the images\n",
    "for i,img in enumerate(imgset):\n",
    "    rgbimg = img_as_float(color.gray2rgb(img))\n",
    "    plt.figure()\n",
    "    plt.subplot(1, 2, 1)\n",
    "    plt.imshow(img)\n",
    "    plt.subplot(1, 2, 2)\n",
    "    plt.imshow(plot_slic_segmentation(rgbimg))"
   ]
  },
  {
   "cell_type": "markdown",
   "metadata": {},
   "source": [
    "### Watershed algorithm"
   ]
  },
  {
   "cell_type": "code",
   "execution_count": null,
   "metadata": {
    "collapsed": false
   },
   "outputs": [],
   "source": [
    "# Show a watershed plot of an image\n",
    "def plot_watershed(img, sigma):\n",
    "    edges = feature.canny(img, sigma)\n",
    "    distance_from_edge = nd.distance_transform_edt(-edges)\n",
    "    peaks = peak_local_max(distance_from_edge)\n",
    "    peaks_image = np.zeros(img.shape, np.bool)\n",
    "    peaks_image[tuple(np.transpose(peaks))] = True\n",
    "    seeds, num_seeds = nd.label(peaks_image)\n",
    "    plt.plot(peaks[:, 1], peaks[:, 0], 'ro')\n",
    "    ws = watershed(edges, seeds)\n",
    "    plt.imshow(color.label2rgb(ws, img))"
   ]
  },
  {
   "cell_type": "code",
   "execution_count": null,
   "metadata": {
    "collapsed": false
   },
   "outputs": [],
   "source": [
    "# Apply to the images\n",
    "for i,img in enumerate(imgset):\n",
    "    imgbw = (color.rgb2grey(decimate_image(img, 5)))\n",
    "    plt.figure()\n",
    "    plot_watershed(imgbw, 1.0)"
   ]
  }
 ],
 "metadata": {
  "kernelspec": {
   "display_name": "Python 2",
   "language": "python",
   "name": "python2"
  },
  "language_info": {
   "codemirror_mode": {
    "name": "ipython",
    "version": 2
   },
   "file_extension": ".py",
   "mimetype": "text/x-python",
   "name": "python",
   "nbconvert_exporter": "python",
   "pygments_lexer": "ipython2",
   "version": "2.7.8"
  }
 },
 "nbformat": 4,
 "nbformat_minor": 0
}
